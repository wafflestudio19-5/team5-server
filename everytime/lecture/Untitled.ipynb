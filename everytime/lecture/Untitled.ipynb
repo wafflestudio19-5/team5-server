{
 "cells": [
  {
   "cell_type": "markdown",
   "id": "7d7f09b9-a4c8-45ad-9f02-ca4e38e9c0d9",
   "metadata": {},
   "source": [
    "# 모듈 임포트"
   ]
  },
  {
   "cell_type": "code",
   "execution_count": 1,
   "id": "4ff3769b",
   "metadata": {
    "ExecuteTime": {
     "end_time": "2022-01-13T11:15:03.737244Z",
     "start_time": "2022-01-13T11:15:03.112254Z"
    }
   },
   "outputs": [],
   "source": [
    "# Change Directory to everytime base Folder\n",
    "import os\n",
    "cwd = os.getcwd()\n",
    "os.chdir('/Users/min-kyulee/Desktop/와플스튜디오/team5-server/everytime/')\n",
    "\n",
    "# Django Setup\n",
    "import django\n",
    "os.environ.setdefault('DJANGO_SETTINGS_MODULE', 'rest.settings')\n",
    "os.environ[\"DJANGO_ALLOW_ASYNC_UNSAFE\"] = \"true\"\n",
    "django.setup()\n",
    "\n",
    "# Shell Plus Model Imports\n",
    "from board.models import BestBoard, Board, HotBoard\n",
    "from comment.models import Comment\n",
    "from django.contrib.admin.models import LogEntry\n",
    "from django.contrib.auth.models import Group, Permission\n",
    "from django.contrib.contenttypes.models import ContentType\n",
    "from django.contrib.sessions.models import Session\n",
    "from django.contrib.sites.models import Site\n",
    "from post.models import Post, PostImage, PostTag, Tag, UserPost\n",
    "from rest_framework.authtoken.models import Token\n",
    "from user.models import SocialAccount, User\n",
    "\n",
    "# Shell Plus Django Imports\n",
    "from django.core.cache import cache\n",
    "from django.conf import settings\n",
    "from django.contrib.auth import get_user_model\n",
    "from django.db import transaction\n",
    "from django.db.models import Avg, Case, Count, F, Max, Min, Prefetch, Q, Sum, When\n",
    "from django.utils import timezone\n",
    "from django.urls import reverse\n",
    "from django.db.models import Exists, OuterRef, Subquery\n",
    "\n",
    "# import Library\n",
    "import numpy as np\n",
    "import pandas as pd\n",
    "\n",
    "os.chdir(cwd)"
   ]
  },
  {
   "cell_type": "markdown",
   "id": "e86744fb-790e-4f33-bf8b-8d354f86c165",
   "metadata": {},
   "source": [
    "# 함수 정의"
   ]
  },
  {
   "cell_type": "code",
   "execution_count": 15,
   "id": "f2cce453-5a20-4117-b028-f6367c4914fc",
   "metadata": {
    "ExecuteTime": {
     "end_time": "2022-01-13T11:39:09.079424Z",
     "start_time": "2022-01-13T11:39:09.061456Z"
    }
   },
   "outputs": [],
   "source": [
    "# json 형식으로 변환시키기 전 int값들의 타입을 numpy.int64 -> int로 전처리\n",
    "def intDecoder(dic):\n",
    "    for key, value in dic.items():\n",
    "        if type(value) == np.int64:\n",
    "            dic[key] = int(value)\n",
    "\n",
    "# 최대길이의 값과 길이를 출력\n",
    "def printMax(arr):\n",
    "    maxlen = 0\n",
    "    maxitem = ''\n",
    "    for item in arr:\n",
    "        if len(item) > maxlen:\n",
    "            maxlen = len(item)\n",
    "            maxitem = item\n",
    "    print('최대길이', maxlen, maxitem)\n",
    "\n",
    "# 장고 CHIOCE FIELD 용 문자열 생성\n",
    "def printTuple(items):\n",
    "    for item in items:\n",
    "        print(f\"\\t\\t('{item}', '{item}'),\")\n",
    "\n",
    "# Blank 값 처리\n",
    "def removeNaN(items):\n",
    "    if 'nan' in items:\n",
    "        print('null is True')\n",
    "        items = np.delete(items, np.where(items=='nan'))\n",
    "    else:\n",
    "        print('null is False')\n",
    "        \n",
    "# 특정 열에서 중복되는 값 제거\n",
    "def getUniqueList(data_frame, col_name):\n",
    "    items = np.array(lecturelist[col_name], dtype=str)\n",
    "    items = np.unique(items)\n",
    "    removeNaN(items)\n",
    "    return items\n",
    "\n",
    "# lecture key 수정\n",
    "def reviseKey(lecture):\n",
    "    en_set = ['title', 'instructor', 'college', 'department', 'classification', \n",
    "              'degree', 'grade', 'course_code', 'lecture_code', 'credits', 'lecture', 'laboratory', \n",
    "              'type', 'locations', 'cart', 'quota', 'remark', 'language', 'times']\n",
    "    kr_set = ['교과목명', '주담당교수', '개설대학', '개설학과', '교과구분', '이수과정', \n",
    "              '학년', '교과목번호', '강좌번호', '학점', '강의', '실습', \n",
    "              '수업형태', '강의실(동-호)(#연건, *평창)', '장바구니신청', '정원', '비고', '강의언어', '수업교시']\n",
    "    for en, kr in zip(en_set, kr_set):\n",
    "        lecture[en] = lecture.pop(kr)\n",
    "        \n",
    "# Nan 값을 인식 못 하므로 None으로 수정\n",
    "def NaNtoNone(lecture):\n",
    "    nanlist = []\n",
    "    for key, value in lecture.items():\n",
    "        if str(value) == 'nan':\n",
    "            lecture[key] = None\n",
    "            \n",
    "# 언어와 형태 비고에 포함\n",
    "def reviseRemark(lecture):\n",
    "    language = lecture.pop('language')\n",
    "    lecture_type = lecture.pop('type')\n",
    "    remark = lecture.pop('remark')\n",
    "    if remark is not None:\n",
    "        if language != '한국어' and lecture_type is not None:\n",
    "            lecture['remark'] = remark + '\\n' + '언어:' + language + ', ' + '형태:' + lecture_type\n",
    "        elif 'type' in lecture:\n",
    "            lecture['remark'] = remark + '\\n' + '형태:' + lecture_type\n",
    "        elif language != '한국어':\n",
    "            lecture['remark'] = remark + '\\n' + '언어:' + language\n",
    "    else:\n",
    "        if language != '한국어' and lecture_type is not None:\n",
    "            lecture['remark'] = '언어:' + language + ', ' + '형태:' + lecture_type\n",
    "        elif '수업형태' in lecture:\n",
    "            lecture['remark'] = '형태:' + lecture_type\n",
    "        elif language != '한국어':\n",
    "            lecture['remark'] = '언어:' + language\n"
   ]
  },
  {
   "cell_type": "markdown",
   "id": "93c038f6-9e28-4137-a8b6-8deb2f45212d",
   "metadata": {},
   "source": [
    "# 데이터 불러오기 및 전처리"
   ]
  },
  {
   "cell_type": "markdown",
   "id": "041818b4",
   "metadata": {},
   "source": [
    "## pandas Data Frame 불러오기"
   ]
  },
  {
   "cell_type": "code",
   "execution_count": 16,
   "id": "17642b11",
   "metadata": {
    "ExecuteTime": {
     "end_time": "2022-01-13T11:39:09.985538Z",
     "start_time": "2022-01-13T11:39:09.738245Z"
    }
   },
   "outputs": [],
   "source": [
    "lecturelist = pd.read_excel(\"./수강편람.xls\", header=2)\n",
    "# lecturelist"
   ]
  },
  {
   "cell_type": "markdown",
   "id": "0bc6cc02",
   "metadata": {},
   "source": [
    "## 데이터 전처리"
   ]
  },
  {
   "cell_type": "code",
   "execution_count": 17,
   "id": "60109179",
   "metadata": {
    "ExecuteTime": {
     "end_time": "2022-01-13T11:39:12.472058Z",
     "start_time": "2022-01-13T11:39:10.741630Z"
    }
   },
   "outputs": [
    {
     "name": "stdout",
     "output_type": "stream",
     "text": [
      "강의 수 : 8038\n"
     ]
    }
   ],
   "source": [
    "lectures = []\n",
    "for i in range(len(lecturelist)):\n",
    "    '''\n",
    "    장바구니신청 -> 담은 인원\n",
    "    수업형태, 강의 언어 -> 비고에 포함\n",
    "    '''\n",
    "    lecture = dict(lecturelist.loc[i,['교과구분',\n",
    "                                      '개설대학', \n",
    "                                      '개설학과', \n",
    "                                      '이수과정', \n",
    "                                      '학년', \n",
    "                                      '교과목번호', \n",
    "                                      '강좌번호', \n",
    "                                      '교과목명', \n",
    "                                      '학점', \n",
    "                                      '강의', \n",
    "                                      '실습' , \n",
    "                                      '수업교시', \n",
    "                                      '수업형태', \n",
    "                                      '강의실(동-호)(#연건, *평창)', \n",
    "                                      '주담당교수', \n",
    "                                      '장바구니신청', \n",
    "                                      '정원', \n",
    "                                      '비고', \n",
    "                                      '강의언어']])\n",
    "    \n",
    "    # key를 django field에 맞게 수정\n",
    "    reviseKey(lecture)\n",
    "        \n",
    "    # NaN값은 파이썬이 인식 못 하므로 삭제\n",
    "    NaNtoNone(lecture)\n",
    "    \n",
    "    # int 값들 변환, times는 아래에서 따로 처리\n",
    "    if lecture['grade'] is not None:\n",
    "        lecture['grade'] = int(lecture['grade'][0])\n",
    "    lecture['lecture_code'] = int(lecture['lecture_code'])\n",
    "    lecture['credits'] = int(lecture['credits'])\n",
    "    lecture['lecture'] = int(lecture['lecture'])\n",
    "    lecture['laboratory'] = int(lecture['laboratory'])\n",
    "    lecture['cart'] = int(lecture['cart'])\n",
    "    lecture['quota'] = int(lecture['quota'].split(' ')[0])\n",
    "    \n",
    "    # 언어와 형태 비고에 삽입\n",
    "    reviseRemark(lecture)\n",
    "    \n",
    "    # 수업 교시 list로 변환\n",
    "    times = lecture.pop('times')\n",
    "    locations = lecture.pop('locations')\n",
    "    if times is not None:\n",
    "        times = [(time[0], int(time[2:4]+time[5:7]), int(time[8:10]+time[11:13])) for time in times.split('/')]\n",
    "        lecture['times'] = times\n",
    "        if locations is not None:\n",
    "            locations = locations.split('/')\n",
    "            lecture['locations'] = locations\n",
    "    else:\n",
    "        lecture['times'] = []\n",
    "    \n",
    "    # 개설학과가 None 이면 개설학과 = 개설대학\n",
    "    if lecture['department'] is None:\n",
    "        lecture['department'] = lecture['college']\n",
    "    \n",
    "    lectures.append(lecture)\n",
    "    \n",
    "print('강의 수 :', len(lectures))"
   ]
  },
  {
   "cell_type": "markdown",
   "id": "ab5c60ac",
   "metadata": {},
   "source": [
    "# 데이터 삽입"
   ]
  },
  {
   "cell_type": "code",
   "execution_count": 192,
   "id": "529ca8ee",
   "metadata": {
    "ExecuteTime": {
     "end_time": "2022-01-12T18:58:28.457650Z",
     "start_time": "2022-01-12T18:58:28.453513Z"
    }
   },
   "outputs": [
    {
     "data": {
      "text/plain": [
       "[('월', 1600, 1715), ('금', 1400, 1515)]"
      ]
     },
     "execution_count": 192,
     "metadata": {},
     "output_type": "execute_result"
    }
   ],
   "source": [
    "for lecture in lectures:\n",
    "    # college 오브젝트 생성\n",
    "    college = lecture.pop('college')\n",
    "    college = College.objects.get_or_create(name=college)\n",
    "    \n",
    "    # department 오브젝트 생성\n",
    "    dept = lecture.pop('college')\n",
    "    dept = Department.objects.get_or_create(name=dept, college=college)\n",
    "        \n",
    "    # course 오브젝트 생성\n",
    "    course = {}\n",
    "    course['title'] = lecture.pop('title')\n",
    "    course['instructor'] = lecture.pop('instructor')\n",
    "    course = Course.objects.get_or_create(**course)\n",
    "    \n",
    "    # lecture 오브젝트 생성\n",
    "    times = lecture.pop('times')\n",
    "    lecture['semester'] = '2022년 1학기'\n",
    "    Lecture.objects.create(**lecture)\n",
    "    \n",
    "    # lecturetime 오브젝트 생성\n",
    "    for time in times:\n",
    "        LectureTime.objects.create(lecture=lecture, day=time[0], start=time[1], end=time[2])"
   ]
  },
  {
   "cell_type": "code",
   "execution_count": 11,
   "id": "89011cae",
   "metadata": {
    "ExecuteTime": {
     "end_time": "2022-01-13T11:27:06.631654Z",
     "start_time": "2022-01-13T11:27:06.623072Z"
    }
   },
   "outputs": [
    {
     "name": "stdout",
     "output_type": "stream",
     "text": [
      "\t\t('2022년 1학기', '2022년 1학기'),\n",
      "\t\t('2021년 겨울학기', '2021년 겨울학기'),\n",
      "\t\t('2021년 2학기', '2021년 2학기'),\n",
      "\t\t('2021년 여름학기', '2021년 여름학기'),\n",
      "\t\t('2021년 1학기', '2021년 1학기'),\n",
      "\t\t('2020년 겨울학기', '2020년 겨울학기'),\n",
      "\t\t('2020년 2학기', '2020년 2학기'),\n",
      "\t\t('2020년 여름학기', '2020년 여름학기'),\n",
      "\t\t('2020년 1학기', '2020년 1학기'),\n"
     ]
    }
   ],
   "source": [
    "printTuple(['2022년 1학기', '2021년 겨울학기', '2021년 2학기', '2021년 여름학기', '2021년 1학기', '2020년 겨울학기', '2020년 2학기', '2020년 여름학기', '2020년 1학기'])"
   ]
  }
 ],
 "metadata": {
  "kernelspec": {
   "display_name": "Python 3 (ipykernel)",
   "language": "python",
   "name": "python3"
  },
  "language_info": {
   "codemirror_mode": {
    "name": "ipython",
    "version": 3
   },
   "file_extension": ".py",
   "mimetype": "text/x-python",
   "name": "python",
   "nbconvert_exporter": "python",
   "pygments_lexer": "ipython3",
   "version": "3.8.9"
  },
  "toc-autonumbering": false,
  "toc-showcode": true,
  "toc-showmarkdowntxt": false,
  "toc-showtags": false
 },
 "nbformat": 4,
 "nbformat_minor": 5
}
